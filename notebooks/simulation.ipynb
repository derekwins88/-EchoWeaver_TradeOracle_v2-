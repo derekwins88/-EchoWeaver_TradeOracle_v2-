{
 "cells": [
  {
   "cell_type": "markdown",
   "metadata": {},
   "source": [
    "# EchoWeaver Resonant Simulation\n",
    "This notebook summons synthetic market data to witness how the oracle narrates its rituals."
   ]
  },
  {
   "cell_type": "code",
   "execution_count": null,
   "metadata": {},
   "outputs": [],
   "source": [
    "from pathlib import Path\n",
    "import numpy as np\n",
    "import pandas as pd\n",
    "import plotly.express as px\n",
    "\n",
    "from src.oracle import TradeOracle\n",
    "from src.exchange import PaperExchange\n",
    "\n",
    "ROOT = Path.cwd()\n",
    "CONFIG_PATH = ROOT / 'config' / 'strategy.yaml'\n",
    "if not CONFIG_PATH.exists():\n",
    "    CONFIG_PATH = ROOT.parent / 'config' / 'strategy.yaml'\n",
    "CONFIG_PATH\n"
   ]
  },
  {
   "cell_type": "code",
   "execution_count": null,
   "metadata": {},
   "outputs": [],
   "source": [
    "def build_synthetic_ohlcv(bars: int = 180, seed: int = 7):\n",
    "    rng = np.random.default_rng(seed)\n",
    "    timestamps = pd.date_range(end=pd.Timestamp.utcnow(), periods=bars, freq='h')\n",
    "    base_price = 20000\n",
    "    returns = rng.normal(0, 0.01, size=bars)\n",
    "    close = base_price * np.exp(np.cumsum(returns))\n",
    "    open_prices = np.concatenate([[close[0]], close[:-1]])\n",
    "    high = close * (1 + np.abs(rng.normal(0, 0.005, size=bars)))\n",
    "    low = close * (1 - np.abs(rng.normal(0, 0.005, size=bars)))\n",
    "    volume = np.abs(rng.normal(1500, 250, size=bars))\n",
    "    return pd.DataFrame({\n",
    "        'timestamp': timestamps,\n",
    "        'open': open_prices,\n",
    "        'high': high,\n",
    "        'low': low,\n",
    "        'close': close,\n",
    "        'volume': volume,\n",
    "    })\n",
    "\n",
    "synthetic_frame = build_synthetic_ohlcv()\n",
    "synthetic_frame.head()\n"
   ]
  },
  {
   "cell_type": "code",
   "execution_count": null,
   "metadata": {},
   "outputs": [],
   "source": [
    "oracle = TradeOracle(str(CONFIG_PATH), exchange=PaperExchange(seed=7), capsule_enabled=False)\n",
    "backtest_results = oracle.backtest(synthetic_frame, symbol='BTC/USDT')\n",
    "backtest_results.tail()\n"
   ]
  },
  {
   "cell_type": "code",
   "execution_count": null,
   "metadata": {},
   "outputs": [],
   "source": [
    "fig = px.line(backtest_results, x='timestamp', y='roi_score', title='EchoWeaver ROI Resonance')\n",
    "fig.update_traces(line_color='#8b5cf6')\n",
    "Path('artifacts').mkdir(exist_ok=True)\n",
    "fig.write_image('artifacts/trade_resonance.png')\n",
    "fig.show()\n"
   ]
  }
 ],
 "metadata": {
  "kernelspec": {
   "display_name": "Python 3",
   "language": "python",
   "name": "python3"
  },
  "language_info": {
   "name": "python",
   "version": "3.10"
  }
 },
 "nbformat": 4,
 "nbformat_minor": 5
}